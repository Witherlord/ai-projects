{
 "cells": [
  {
   "cell_type": "markdown",
   "metadata": {},
   "source": [
    "<h1 align=center><font size = 5>Project</font></h1>\n",
    "<h1 align=center><font size = 3>From A to D</font></h1>\n",
    "\n",
    "# Compressive strength of concrete samples\n",
    "\n",
    "The dataset is about the compressive strength of different samples of concrete based on the volumes of the different ingredients that were used to make them. "
   ]
  },
  {
   "cell_type": "markdown",
   "metadata": {},
   "source": [
    "## A. Build a baseline model"
   ]
  },
  {
   "cell_type": "code",
   "execution_count": 2,
   "metadata": {},
   "outputs": [
    {
     "data": {
      "text/html": [
       "<div>\n",
       "<style scoped>\n",
       "    .dataframe tbody tr th:only-of-type {\n",
       "        vertical-align: middle;\n",
       "    }\n",
       "\n",
       "    .dataframe tbody tr th {\n",
       "        vertical-align: top;\n",
       "    }\n",
       "\n",
       "    .dataframe thead th {\n",
       "        text-align: right;\n",
       "    }\n",
       "</style>\n",
       "<table border=\"1\" class=\"dataframe\">\n",
       "  <thead>\n",
       "    <tr style=\"text-align: right;\">\n",
       "      <th></th>\n",
       "      <th>Cement</th>\n",
       "      <th>Blast Furnace Slag</th>\n",
       "      <th>Fly Ash</th>\n",
       "      <th>Water</th>\n",
       "      <th>Superplasticizer</th>\n",
       "      <th>Coarse Aggregate</th>\n",
       "      <th>Fine Aggregate</th>\n",
       "      <th>Age</th>\n",
       "      <th>Strength</th>\n",
       "    </tr>\n",
       "  </thead>\n",
       "  <tbody>\n",
       "    <tr>\n",
       "      <th>0</th>\n",
       "      <td>540.0</td>\n",
       "      <td>0.0</td>\n",
       "      <td>0.0</td>\n",
       "      <td>162.0</td>\n",
       "      <td>2.5</td>\n",
       "      <td>1040.0</td>\n",
       "      <td>676.0</td>\n",
       "      <td>28</td>\n",
       "      <td>79.99</td>\n",
       "    </tr>\n",
       "    <tr>\n",
       "      <th>1</th>\n",
       "      <td>540.0</td>\n",
       "      <td>0.0</td>\n",
       "      <td>0.0</td>\n",
       "      <td>162.0</td>\n",
       "      <td>2.5</td>\n",
       "      <td>1055.0</td>\n",
       "      <td>676.0</td>\n",
       "      <td>28</td>\n",
       "      <td>61.89</td>\n",
       "    </tr>\n",
       "    <tr>\n",
       "      <th>2</th>\n",
       "      <td>332.5</td>\n",
       "      <td>142.5</td>\n",
       "      <td>0.0</td>\n",
       "      <td>228.0</td>\n",
       "      <td>0.0</td>\n",
       "      <td>932.0</td>\n",
       "      <td>594.0</td>\n",
       "      <td>270</td>\n",
       "      <td>40.27</td>\n",
       "    </tr>\n",
       "    <tr>\n",
       "      <th>3</th>\n",
       "      <td>332.5</td>\n",
       "      <td>142.5</td>\n",
       "      <td>0.0</td>\n",
       "      <td>228.0</td>\n",
       "      <td>0.0</td>\n",
       "      <td>932.0</td>\n",
       "      <td>594.0</td>\n",
       "      <td>365</td>\n",
       "      <td>41.05</td>\n",
       "    </tr>\n",
       "    <tr>\n",
       "      <th>4</th>\n",
       "      <td>198.6</td>\n",
       "      <td>132.4</td>\n",
       "      <td>0.0</td>\n",
       "      <td>192.0</td>\n",
       "      <td>0.0</td>\n",
       "      <td>978.4</td>\n",
       "      <td>825.5</td>\n",
       "      <td>360</td>\n",
       "      <td>44.30</td>\n",
       "    </tr>\n",
       "  </tbody>\n",
       "</table>\n",
       "</div>"
      ],
      "text/plain": [
       "   Cement  Blast Furnace Slag  Fly Ash  Water  Superplasticizer  \\\n",
       "0   540.0                 0.0      0.0  162.0               2.5   \n",
       "1   540.0                 0.0      0.0  162.0               2.5   \n",
       "2   332.5               142.5      0.0  228.0               0.0   \n",
       "3   332.5               142.5      0.0  228.0               0.0   \n",
       "4   198.6               132.4      0.0  192.0               0.0   \n",
       "\n",
       "   Coarse Aggregate  Fine Aggregate  Age  Strength  \n",
       "0            1040.0           676.0   28     79.99  \n",
       "1            1055.0           676.0   28     61.89  \n",
       "2             932.0           594.0  270     40.27  \n",
       "3             932.0           594.0  365     41.05  \n",
       "4             978.4           825.5  360     44.30  "
      ]
     },
     "execution_count": 2,
     "metadata": {},
     "output_type": "execute_result"
    }
   ],
   "source": [
    "import pandas as pd\n",
    "import numpy as np\n",
    "\n",
    "concrete_data = pd.read_csv('concrete_data.csv') #upload data from .csv file\n",
    "concrete_data.head()\n"
   ]
  },
  {
   "cell_type": "code",
   "execution_count": 3,
   "metadata": {},
   "outputs": [
    {
     "data": {
      "text/plain": [
       "Cement                0\n",
       "Blast Furnace Slag    0\n",
       "Fly Ash               0\n",
       "Water                 0\n",
       "Superplasticizer      0\n",
       "Coarse Aggregate      0\n",
       "Fine Aggregate        0\n",
       "Age                   0\n",
       "Strength              0\n",
       "dtype: int64"
      ]
     },
     "execution_count": 3,
     "metadata": {},
     "output_type": "execute_result"
    }
   ],
   "source": [
    "concrete_data.isnull().sum() #check data"
   ]
  },
  {
   "cell_type": "markdown",
   "metadata": {},
   "source": [
    "Data is pretty good."
   ]
  },
  {
   "cell_type": "code",
   "execution_count": 4,
   "metadata": {},
   "outputs": [
    {
     "data": {
      "text/html": [
       "<div>\n",
       "<style scoped>\n",
       "    .dataframe tbody tr th:only-of-type {\n",
       "        vertical-align: middle;\n",
       "    }\n",
       "\n",
       "    .dataframe tbody tr th {\n",
       "        vertical-align: top;\n",
       "    }\n",
       "\n",
       "    .dataframe thead th {\n",
       "        text-align: right;\n",
       "    }\n",
       "</style>\n",
       "<table border=\"1\" class=\"dataframe\">\n",
       "  <thead>\n",
       "    <tr style=\"text-align: right;\">\n",
       "      <th></th>\n",
       "      <th>Cement</th>\n",
       "      <th>Blast Furnace Slag</th>\n",
       "      <th>Fly Ash</th>\n",
       "      <th>Water</th>\n",
       "      <th>Superplasticizer</th>\n",
       "      <th>Coarse Aggregate</th>\n",
       "      <th>Fine Aggregate</th>\n",
       "      <th>Age</th>\n",
       "    </tr>\n",
       "  </thead>\n",
       "  <tbody>\n",
       "    <tr>\n",
       "      <th>0</th>\n",
       "      <td>540.0</td>\n",
       "      <td>0.0</td>\n",
       "      <td>0.0</td>\n",
       "      <td>162.0</td>\n",
       "      <td>2.5</td>\n",
       "      <td>1040.0</td>\n",
       "      <td>676.0</td>\n",
       "      <td>28</td>\n",
       "    </tr>\n",
       "    <tr>\n",
       "      <th>1</th>\n",
       "      <td>540.0</td>\n",
       "      <td>0.0</td>\n",
       "      <td>0.0</td>\n",
       "      <td>162.0</td>\n",
       "      <td>2.5</td>\n",
       "      <td>1055.0</td>\n",
       "      <td>676.0</td>\n",
       "      <td>28</td>\n",
       "    </tr>\n",
       "    <tr>\n",
       "      <th>2</th>\n",
       "      <td>332.5</td>\n",
       "      <td>142.5</td>\n",
       "      <td>0.0</td>\n",
       "      <td>228.0</td>\n",
       "      <td>0.0</td>\n",
       "      <td>932.0</td>\n",
       "      <td>594.0</td>\n",
       "      <td>270</td>\n",
       "    </tr>\n",
       "    <tr>\n",
       "      <th>3</th>\n",
       "      <td>332.5</td>\n",
       "      <td>142.5</td>\n",
       "      <td>0.0</td>\n",
       "      <td>228.0</td>\n",
       "      <td>0.0</td>\n",
       "      <td>932.0</td>\n",
       "      <td>594.0</td>\n",
       "      <td>365</td>\n",
       "    </tr>\n",
       "    <tr>\n",
       "      <th>4</th>\n",
       "      <td>198.6</td>\n",
       "      <td>132.4</td>\n",
       "      <td>0.0</td>\n",
       "      <td>192.0</td>\n",
       "      <td>0.0</td>\n",
       "      <td>978.4</td>\n",
       "      <td>825.5</td>\n",
       "      <td>360</td>\n",
       "    </tr>\n",
       "  </tbody>\n",
       "</table>\n",
       "</div>"
      ],
      "text/plain": [
       "   Cement  Blast Furnace Slag  Fly Ash  Water  Superplasticizer  \\\n",
       "0   540.0                 0.0      0.0  162.0               2.5   \n",
       "1   540.0                 0.0      0.0  162.0               2.5   \n",
       "2   332.5               142.5      0.0  228.0               0.0   \n",
       "3   332.5               142.5      0.0  228.0               0.0   \n",
       "4   198.6               132.4      0.0  192.0               0.0   \n",
       "\n",
       "   Coarse Aggregate  Fine Aggregate  Age  \n",
       "0            1040.0           676.0   28  \n",
       "1            1055.0           676.0   28  \n",
       "2             932.0           594.0  270  \n",
       "3             932.0           594.0  365  \n",
       "4             978.4           825.5  360  "
      ]
     },
     "execution_count": 4,
     "metadata": {},
     "output_type": "execute_result"
    }
   ],
   "source": [
    "X = concrete_data[['Cement', 'Blast Furnace Slag', 'Fly Ash', 'Water', 'Superplasticizer', 'Coarse Aggregate', 'Fine Aggregate', 'Age']]\n",
    "#concrete_data[concrete_data_columns[concrete_data_columns != 'Strength']] # all columns except Strength\n",
    "X.head()"
   ]
  },
  {
   "cell_type": "code",
   "execution_count": 5,
   "metadata": {},
   "outputs": [
    {
     "data": {
      "text/html": [
       "<div>\n",
       "<style scoped>\n",
       "    .dataframe tbody tr th:only-of-type {\n",
       "        vertical-align: middle;\n",
       "    }\n",
       "\n",
       "    .dataframe tbody tr th {\n",
       "        vertical-align: top;\n",
       "    }\n",
       "\n",
       "    .dataframe thead th {\n",
       "        text-align: right;\n",
       "    }\n",
       "</style>\n",
       "<table border=\"1\" class=\"dataframe\">\n",
       "  <thead>\n",
       "    <tr style=\"text-align: right;\">\n",
       "      <th></th>\n",
       "      <th>Strength</th>\n",
       "    </tr>\n",
       "  </thead>\n",
       "  <tbody>\n",
       "    <tr>\n",
       "      <th>0</th>\n",
       "      <td>79.99</td>\n",
       "    </tr>\n",
       "    <tr>\n",
       "      <th>1</th>\n",
       "      <td>61.89</td>\n",
       "    </tr>\n",
       "    <tr>\n",
       "      <th>2</th>\n",
       "      <td>40.27</td>\n",
       "    </tr>\n",
       "    <tr>\n",
       "      <th>3</th>\n",
       "      <td>41.05</td>\n",
       "    </tr>\n",
       "    <tr>\n",
       "      <th>4</th>\n",
       "      <td>44.30</td>\n",
       "    </tr>\n",
       "  </tbody>\n",
       "</table>\n",
       "</div>"
      ],
      "text/plain": [
       "   Strength\n",
       "0     79.99\n",
       "1     61.89\n",
       "2     40.27\n",
       "3     41.05\n",
       "4     44.30"
      ]
     },
     "execution_count": 5,
     "metadata": {},
     "output_type": "execute_result"
    }
   ],
   "source": [
    "y = concrete_data[['Strength']]\n",
    "y.head()"
   ]
  },
  {
   "cell_type": "code",
   "execution_count": 6,
   "metadata": {},
   "outputs": [
    {
     "name": "stdout",
     "output_type": "stream",
     "text": [
      "Train set: (721, 8) (721, 1)\n",
      "Test set: (309, 8) (309, 1)\n"
     ]
    }
   ],
   "source": [
    "from sklearn.model_selection import train_test_split\n",
    "X_train, X_test, y_train, y_test = train_test_split(X, y, test_size=0.3, random_state=4) #split for 30% verification data\n",
    "print('Train set:', X_train.shape, y_train.shape)\n",
    "print('Test set:', X_test.shape, y_test.shape)\n",
    "\n",
    "n_cols = X.shape[1] # number of X - inputs"
   ]
  },
  {
   "cell_type": "markdown",
   "metadata": {},
   "source": [
    "Following is to build of our Network, where we have 1 hidden layer of 50 nodes and ReLU activation."
   ]
  },
  {
   "cell_type": "code",
   "execution_count": 7,
   "metadata": {},
   "outputs": [
    {
     "name": "stderr",
     "output_type": "stream",
     "text": [
      "Using TensorFlow backend.\n"
     ]
    }
   ],
   "source": [
    "import keras\n",
    "from keras.models import Sequential\n",
    "from keras.layers import Dense\n",
    "\n",
    "# define regression model\n",
    "def regression_model():\n",
    "    # create model\n",
    "    model = Sequential()\n",
    "    model.add(Dense(50, activation='relu', input_shape=(n_cols,)))\n",
    "    model.add(Dense(1))\n",
    "    \n",
    "    # compile model\n",
    "    model.compile(optimizer='adam', loss='mean_squared_error')\n",
    "    return model"
   ]
  },
  {
   "cell_type": "markdown",
   "metadata": {},
   "source": [
    "To create a loop of 50 times for generation of the mean and standard deviation of the mean squared errors list."
   ]
  },
  {
   "cell_type": "code",
   "execution_count": 65,
   "metadata": {},
   "outputs": [
    {
     "name": "stdout",
     "output_type": "stream",
     "text": [
      "Loop  0  - error  100.0\n",
      "Loop  1  - error  74.0\n",
      "Loop  2  - error  87.0\n",
      "Loop  3  - error  101.0\n",
      "Loop  4  - error  110.0\n",
      "Loop  5  - error  79.0\n",
      "Loop  6  - error  171.0\n",
      "Loop  7  - error  118.0\n",
      "Loop  8  - error  116.0\n",
      "Loop  9  - error  67.0\n",
      "Loop  10  - error  63.0\n",
      "Loop  11  - error  53.0\n",
      "Loop  12  - error  93.0\n",
      "Loop  13  - error  105.0\n",
      "Loop  14  - error  149.0\n",
      "Loop  15  - error  84.0\n",
      "Loop  16  - error  73.0\n",
      "Loop  17  - error  71.0\n",
      "Loop  18  - error  69.0\n",
      "Loop  19  - error  74.0\n",
      "Loop  20  - error  77.0\n",
      "Loop  21  - error  86.0\n",
      "Loop  22  - error  70.0\n",
      "Loop  23  - error  78.0\n",
      "Loop  24  - error  69.0\n",
      "Loop  25  - error  89.0\n",
      "Loop  26  - error  112.0\n",
      "Loop  27  - error  69.0\n",
      "Loop  28  - error  81.0\n",
      "Loop  29  - error  61.0\n",
      "Loop  30  - error  145.0\n",
      "Loop  31  - error  75.0\n",
      "Loop  32  - error  81.0\n",
      "Loop  33  - error  109.0\n",
      "Loop  34  - error  59.0\n",
      "Loop  35  - error  74.0\n",
      "Loop  36  - error  105.0\n",
      "Loop  37  - error  110.0\n",
      "Loop  38  - error  74.0\n",
      "Loop  39  - error  62.0\n",
      "Loop  40  - error  74.0\n",
      "Loop  41  - error  89.0\n",
      "Loop  42  - error  68.0\n",
      "Loop  43  - error  64.0\n",
      "Loop  44  - error  78.0\n",
      "Loop  45  - error  104.0\n",
      "Loop  46  - error  80.0\n",
      "Loop  47  - error  138.0\n",
      "Loop  48  - error  78.0\n",
      "Loop  49  - error  102.0\n",
      "[100.0, 74.0, 87.0, 101.0, 110.0, 79.0, 171.0, 118.0, 116.0, 67.0, 63.0, 53.0, 93.0, 105.0, 149.0, 84.0, 73.0, 71.0, 69.0, 74.0, 77.0, 86.0, 70.0, 78.0, 69.0, 89.0, 112.0, 69.0, 81.0, 61.0, 145.0, 75.0, 81.0, 109.0, 59.0, 74.0, 105.0, 110.0, 74.0, 62.0, 74.0, 89.0, 68.0, 64.0, 78.0, 104.0, 80.0, 138.0, 78.0, 102.0]\n"
     ]
    }
   ],
   "source": [
    "from sklearn.metrics import mean_squared_error\n",
    "import math\n",
    "\n",
    "errors = list()\n",
    "\n",
    "for count in range(50):\n",
    "    # build the model\n",
    "    model = regression_model()\n",
    "\n",
    "    # fit the model\n",
    "    model.fit(X_train, y_train, validation_data=(X_test, y_test), epochs=50, verbose=0)\n",
    "    \n",
    "    pred = model.predict(X_test)\n",
    "    \n",
    "    # evaluate the model\n",
    "    #scores = model.evaluate(X_test, y_test, verbose=2)\n",
    "    \n",
    "    error = round(mean_squared_error(y_test, pred))\n",
    "\n",
    "    errors.append(error)\n",
    "    print(\"Loop \",count,\" - error \",error)\n",
    "    \n",
    "print(errors)"
   ]
  },
  {
   "cell_type": "code",
   "execution_count": 66,
   "metadata": {},
   "outputs": [
    {
     "name": "stdout",
     "output_type": "stream",
     "text": [
      "Finale results: mean =  88.36 ; std =  24.762681599536023\n"
     ]
    }
   ],
   "source": [
    "errors = np.array(errors) \n",
    "# defining of mean and std\n",
    "mean = errors.mean()\n",
    "std = errors.std()\n",
    "\n",
    "print(\"Finale results: mean = \", mean, \"; std = \", std)"
   ]
  },
  {
   "cell_type": "code",
   "execution_count": null,
   "metadata": {},
   "outputs": [],
   "source": []
  },
  {
   "cell_type": "markdown",
   "metadata": {},
   "source": [
    "## B. Normalize the data"
   ]
  },
  {
   "cell_type": "code",
   "execution_count": 68,
   "metadata": {},
   "outputs": [
    {
     "data": {
      "text/html": [
       "<div>\n",
       "<style scoped>\n",
       "    .dataframe tbody tr th:only-of-type {\n",
       "        vertical-align: middle;\n",
       "    }\n",
       "\n",
       "    .dataframe tbody tr th {\n",
       "        vertical-align: top;\n",
       "    }\n",
       "\n",
       "    .dataframe thead th {\n",
       "        text-align: right;\n",
       "    }\n",
       "</style>\n",
       "<table border=\"1\" class=\"dataframe\">\n",
       "  <thead>\n",
       "    <tr style=\"text-align: right;\">\n",
       "      <th></th>\n",
       "      <th>Cement</th>\n",
       "      <th>Blast Furnace Slag</th>\n",
       "      <th>Fly Ash</th>\n",
       "      <th>Water</th>\n",
       "      <th>Superplasticizer</th>\n",
       "      <th>Coarse Aggregate</th>\n",
       "      <th>Fine Aggregate</th>\n",
       "      <th>Age</th>\n",
       "    </tr>\n",
       "  </thead>\n",
       "  <tbody>\n",
       "    <tr>\n",
       "      <th>0</th>\n",
       "      <td>2.476712</td>\n",
       "      <td>-0.856472</td>\n",
       "      <td>-0.846733</td>\n",
       "      <td>-0.916319</td>\n",
       "      <td>-0.620147</td>\n",
       "      <td>0.862735</td>\n",
       "      <td>-1.217079</td>\n",
       "      <td>-0.279597</td>\n",
       "    </tr>\n",
       "    <tr>\n",
       "      <th>1</th>\n",
       "      <td>2.476712</td>\n",
       "      <td>-0.856472</td>\n",
       "      <td>-0.846733</td>\n",
       "      <td>-0.916319</td>\n",
       "      <td>-0.620147</td>\n",
       "      <td>1.055651</td>\n",
       "      <td>-1.217079</td>\n",
       "      <td>-0.279597</td>\n",
       "    </tr>\n",
       "    <tr>\n",
       "      <th>2</th>\n",
       "      <td>0.491187</td>\n",
       "      <td>0.795140</td>\n",
       "      <td>-0.846733</td>\n",
       "      <td>2.174405</td>\n",
       "      <td>-1.038638</td>\n",
       "      <td>-0.526262</td>\n",
       "      <td>-2.239829</td>\n",
       "      <td>3.551340</td>\n",
       "    </tr>\n",
       "    <tr>\n",
       "      <th>3</th>\n",
       "      <td>0.491187</td>\n",
       "      <td>0.795140</td>\n",
       "      <td>-0.846733</td>\n",
       "      <td>2.174405</td>\n",
       "      <td>-1.038638</td>\n",
       "      <td>-0.526262</td>\n",
       "      <td>-2.239829</td>\n",
       "      <td>5.055221</td>\n",
       "    </tr>\n",
       "    <tr>\n",
       "      <th>4</th>\n",
       "      <td>-0.790075</td>\n",
       "      <td>0.678079</td>\n",
       "      <td>-0.846733</td>\n",
       "      <td>0.488555</td>\n",
       "      <td>-1.038638</td>\n",
       "      <td>0.070492</td>\n",
       "      <td>0.647569</td>\n",
       "      <td>4.976069</td>\n",
       "    </tr>\n",
       "  </tbody>\n",
       "</table>\n",
       "</div>"
      ],
      "text/plain": [
       "     Cement  Blast Furnace Slag   Fly Ash     Water  Superplasticizer  \\\n",
       "0  2.476712           -0.856472 -0.846733 -0.916319         -0.620147   \n",
       "1  2.476712           -0.856472 -0.846733 -0.916319         -0.620147   \n",
       "2  0.491187            0.795140 -0.846733  2.174405         -1.038638   \n",
       "3  0.491187            0.795140 -0.846733  2.174405         -1.038638   \n",
       "4 -0.790075            0.678079 -0.846733  0.488555         -1.038638   \n",
       "\n",
       "   Coarse Aggregate  Fine Aggregate       Age  \n",
       "0          0.862735       -1.217079 -0.279597  \n",
       "1          1.055651       -1.217079 -0.279597  \n",
       "2         -0.526262       -2.239829  3.551340  \n",
       "3         -0.526262       -2.239829  5.055221  \n",
       "4          0.070492        0.647569  4.976069  "
      ]
     },
     "execution_count": 68,
     "metadata": {},
     "output_type": "execute_result"
    }
   ],
   "source": [
    "#to normalize data set by subtracting the mean from the individual predictors and dividing by the standard deviation.\n",
    "X_norm = (X - X.mean()) / X.std()\n",
    "X_norm.head()"
   ]
  },
  {
   "cell_type": "code",
   "execution_count": 69,
   "metadata": {},
   "outputs": [
    {
     "name": "stdout",
     "output_type": "stream",
     "text": [
      "Train set: (721, 8) (721, 1)\n",
      "Test set: (309, 8) (309, 1)\n"
     ]
    }
   ],
   "source": [
    "#and repeat steps\n",
    "X_train, X_test, y_train, y_test = train_test_split(X, y, test_size=0.3, random_state=4) #split for 30% verification data\n",
    "print('Train set:', X_train.shape, y_train.shape)\n",
    "print('Test set:', X_test.shape, y_test.shape)\n",
    "\n",
    "n_cols = X.shape[1] # number of X - inputs"
   ]
  },
  {
   "cell_type": "code",
   "execution_count": 70,
   "metadata": {},
   "outputs": [
    {
     "name": "stdout",
     "output_type": "stream",
     "text": [
      "Loop  0  - error  98.0\n",
      "Loop  1  - error  82.0\n",
      "Loop  2  - error  107.0\n",
      "Loop  3  - error  103.0\n",
      "Loop  4  - error  62.0\n",
      "Loop  5  - error  158.0\n",
      "Loop  6  - error  107.0\n",
      "Loop  7  - error  84.0\n",
      "Loop  8  - error  82.0\n",
      "Loop  9  - error  76.0\n",
      "Loop  10  - error  101.0\n",
      "Loop  11  - error  71.0\n",
      "Loop  12  - error  95.0\n",
      "Loop  13  - error  79.0\n",
      "Loop  14  - error  78.0\n",
      "Loop  15  - error  74.0\n",
      "Loop  16  - error  86.0\n",
      "Loop  17  - error  70.0\n",
      "Loop  18  - error  63.0\n",
      "Loop  19  - error  89.0\n",
      "Loop  20  - error  70.0\n",
      "Loop  21  - error  67.0\n",
      "Loop  22  - error  86.0\n",
      "Loop  23  - error  65.0\n",
      "Loop  24  - error  69.0\n",
      "Loop  25  - error  121.0\n",
      "Loop  26  - error  116.0\n",
      "Loop  27  - error  84.0\n",
      "Loop  28  - error  74.0\n",
      "Loop  29  - error  84.0\n",
      "Loop  30  - error  100.0\n",
      "Loop  31  - error  82.0\n",
      "Loop  32  - error  138.0\n",
      "Loop  33  - error  85.0\n",
      "Loop  34  - error  76.0\n",
      "Loop  35  - error  111.0\n",
      "Loop  36  - error  95.0\n",
      "Loop  37  - error  147.0\n",
      "Loop  38  - error  113.0\n",
      "Loop  39  - error  89.0\n",
      "Loop  40  - error  119.0\n",
      "Loop  41  - error  115.0\n",
      "Loop  42  - error  85.0\n",
      "Loop  43  - error  81.0\n",
      "Loop  44  - error  124.0\n",
      "Loop  45  - error  154.0\n",
      "Loop  46  - error  93.0\n",
      "Loop  47  - error  152.0\n",
      "Loop  48  - error  96.0\n",
      "Loop  49  - error  83.0\n"
     ]
    }
   ],
   "source": [
    "errors = list()\n",
    "\n",
    "for count in range(50):\n",
    "    # build the model\n",
    "    model = regression_model()\n",
    "\n",
    "    # fit the model\n",
    "    model.fit(X_train, y_train, validation_data=(X_test, y_test), epochs=50, verbose=0)\n",
    "    \n",
    "    pred = model.predict(X_test)\n",
    "    \n",
    "    # evaluate the model\n",
    "    #scores = model.evaluate(X_test, y_test, verbose=2)\n",
    "    \n",
    "    error = round(mean_squared_error(y_test, pred))\n",
    "\n",
    "    errors.append(error)\n",
    "    print(\"Loop \",count,\" - error \",error)\n",
    "    \n",
    "#print(errors)"
   ]
  },
  {
   "cell_type": "code",
   "execution_count": 71,
   "metadata": {},
   "outputs": [
    {
     "name": "stdout",
     "output_type": "stream",
     "text": [
      "Finale results: mean =  94.78 ; std =  24.20023966823469\n"
     ]
    }
   ],
   "source": [
    "errors_normalize = np.array(errors) \n",
    "# defining of mean and std\n",
    "mean_normalize = errors_normalize.mean()\n",
    "std_normalize = errors_normalize.std()\n",
    "\n",
    "print(\"Finale results: mean = \", mean_normalize, \"; std = \", std_normalize)"
   ]
  },
  {
   "cell_type": "markdown",
   "metadata": {},
   "source": [
    "## C. Increase the number of epochs"
   ]
  },
  {
   "cell_type": "markdown",
   "metadata": {},
   "source": [
    "New epochs will be increased up to 100."
   ]
  },
  {
   "cell_type": "code",
   "execution_count": 72,
   "metadata": {},
   "outputs": [
    {
     "name": "stdout",
     "output_type": "stream",
     "text": [
      "Loop  0  - error  95.0\n",
      "Loop  1  - error  75.0\n",
      "Loop  2  - error  85.0\n",
      "Loop  3  - error  79.0\n",
      "Loop  4  - error  56.0\n",
      "Loop  5  - error  50.0\n",
      "Loop  6  - error  60.0\n",
      "Loop  7  - error  52.0\n",
      "Loop  8  - error  63.0\n",
      "Loop  9  - error  66.0\n",
      "Loop  10  - error  72.0\n",
      "Loop  11  - error  72.0\n",
      "Loop  12  - error  68.0\n",
      "Loop  13  - error  105.0\n",
      "Loop  14  - error  81.0\n",
      "Loop  15  - error  74.0\n",
      "Loop  16  - error  80.0\n",
      "Loop  17  - error  63.0\n",
      "Loop  18  - error  96.0\n",
      "Loop  19  - error  54.0\n",
      "Loop  20  - error  70.0\n",
      "Loop  21  - error  100.0\n",
      "Loop  22  - error  63.0\n",
      "Loop  23  - error  82.0\n",
      "Loop  24  - error  72.0\n",
      "Loop  25  - error  81.0\n",
      "Loop  26  - error  73.0\n",
      "Loop  27  - error  64.0\n",
      "Loop  28  - error  90.0\n",
      "Loop  29  - error  59.0\n",
      "Loop  30  - error  95.0\n",
      "Loop  31  - error  48.0\n",
      "Loop  32  - error  69.0\n",
      "Loop  33  - error  51.0\n",
      "Loop  34  - error  59.0\n",
      "Loop  35  - error  71.0\n",
      "Loop  36  - error  58.0\n",
      "Loop  37  - error  53.0\n",
      "Loop  38  - error  74.0\n",
      "Loop  39  - error  98.0\n",
      "Loop  40  - error  68.0\n",
      "Loop  41  - error  53.0\n",
      "Loop  42  - error  72.0\n",
      "Loop  43  - error  60.0\n",
      "Loop  44  - error  93.0\n",
      "Loop  45  - error  56.0\n",
      "Loop  46  - error  56.0\n",
      "Loop  47  - error  64.0\n",
      "Loop  48  - error  57.0\n",
      "Loop  49  - error  72.0\n"
     ]
    }
   ],
   "source": [
    "errors_epochs100 = list()\n",
    "\n",
    "for count in range(50):\n",
    "    # build the model\n",
    "    model = regression_model()\n",
    "\n",
    "    # fit the model\n",
    "    model.fit(X_train, y_train, validation_data=(X_test, y_test), epochs=100, verbose=0)\n",
    "    \n",
    "    pred = model.predict(X_test)\n",
    "    \n",
    "    # evaluate the model\n",
    "    #scores = model.evaluate(X_test, y_test, verbose=2)\n",
    "    \n",
    "    error = round(mean_squared_error(y_test, pred))\n",
    "\n",
    "    errors_epochs100.append(error)\n",
    "    print(\"Loop \",count,\" - error \",error)"
   ]
  },
  {
   "cell_type": "code",
   "execution_count": 73,
   "metadata": {},
   "outputs": [
    {
     "name": "stdout",
     "output_type": "stream",
     "text": [
      "Finale results: mean =  70.54 ; std =  14.572865195286752\n"
     ]
    }
   ],
   "source": [
    "errors_epochs100 = np.array(errors_epochs100) \n",
    "# defining of mean and std\n",
    "mean_epochs100 = errors_epochs100.mean()\n",
    "std_epochs100 = errors_epochs100.std()\n",
    "\n",
    "print(\"Finale results: mean = \", mean_epochs100, \"; std = \", std_epochs100)"
   ]
  },
  {
   "cell_type": "code",
   "execution_count": null,
   "metadata": {},
   "outputs": [],
   "source": []
  },
  {
   "cell_type": "markdown",
   "metadata": {},
   "source": [
    "## D. Increase the number of hidden layers"
   ]
  },
  {
   "cell_type": "markdown",
   "metadata": {},
   "source": [
    "Let's add one more hidden layer with the same amount of nodes."
   ]
  },
  {
   "cell_type": "code",
   "execution_count": 75,
   "metadata": {},
   "outputs": [],
   "source": [
    "# define a new regression model\n",
    "def new_regression_model():\n",
    "    # create model\n",
    "    model = Sequential()\n",
    "    model.add(Dense(50, activation='relu', input_shape=(n_cols,)))\n",
    "    model.add(Dense(50, activation='relu'))\n",
    "    model.add(Dense(1))\n",
    "    \n",
    "    # compile model\n",
    "    model.compile(optimizer='adam', loss='mean_squared_error')\n",
    "    return model"
   ]
  },
  {
   "cell_type": "code",
   "execution_count": 76,
   "metadata": {},
   "outputs": [
    {
     "name": "stdout",
     "output_type": "stream",
     "text": [
      "Loop  0  - error  47.0\n",
      "Loop  1  - error  41.0\n",
      "Loop  2  - error  50.0\n",
      "Loop  3  - error  62.0\n",
      "Loop  4  - error  105.0\n",
      "Loop  5  - error  79.0\n",
      "Loop  6  - error  46.0\n",
      "Loop  7  - error  67.0\n",
      "Loop  8  - error  63.0\n",
      "Loop  9  - error  47.0\n",
      "Loop  10  - error  53.0\n",
      "Loop  11  - error  56.0\n",
      "Loop  12  - error  50.0\n",
      "Loop  13  - error  90.0\n",
      "Loop  14  - error  40.0\n",
      "Loop  15  - error  46.0\n",
      "Loop  16  - error  43.0\n",
      "Loop  17  - error  42.0\n",
      "Loop  18  - error  41.0\n",
      "Loop  19  - error  47.0\n",
      "Loop  20  - error  46.0\n",
      "Loop  21  - error  94.0\n",
      "Loop  22  - error  45.0\n",
      "Loop  23  - error  51.0\n",
      "Loop  24  - error  49.0\n",
      "Loop  25  - error  46.0\n",
      "Loop  26  - error  48.0\n",
      "Loop  27  - error  49.0\n",
      "Loop  28  - error  42.0\n",
      "Loop  29  - error  67.0\n",
      "Loop  30  - error  57.0\n",
      "Loop  31  - error  61.0\n",
      "Loop  32  - error  66.0\n",
      "Loop  33  - error  47.0\n",
      "Loop  34  - error  59.0\n",
      "Loop  35  - error  96.0\n",
      "Loop  36  - error  43.0\n",
      "Loop  37  - error  56.0\n",
      "Loop  38  - error  42.0\n",
      "Loop  39  - error  51.0\n",
      "Loop  40  - error  45.0\n",
      "Loop  41  - error  49.0\n",
      "Loop  42  - error  51.0\n",
      "Loop  43  - error  41.0\n",
      "Loop  44  - error  44.0\n",
      "Loop  45  - error  50.0\n",
      "Loop  46  - error  43.0\n",
      "Loop  47  - error  38.0\n",
      "Loop  48  - error  50.0\n",
      "Loop  49  - error  56.0\n"
     ]
    }
   ],
   "source": [
    "errors_2hidden = list()\n",
    "\n",
    "for count in range(50):\n",
    "    # build the model\n",
    "    model = new_regression_model()\n",
    "\n",
    "    # fit the model\n",
    "    model.fit(X_train, y_train, validation_data=(X_test, y_test), epochs=100, verbose=0)\n",
    "    \n",
    "    pred = model.predict(X_test)\n",
    "    \n",
    "    # evaluate the model\n",
    "    #scores = model.evaluate(X_test, y_test, verbose=2)\n",
    "    \n",
    "    error = round(mean_squared_error(y_test, pred))\n",
    "\n",
    "    errors_2hidden.append(error)\n",
    "    print(\"Loop \",count,\" - error \",error)\n",
    "    \n"
   ]
  },
  {
   "cell_type": "code",
   "execution_count": 77,
   "metadata": {},
   "outputs": [
    {
     "name": "stdout",
     "output_type": "stream",
     "text": [
      "Finale results: mean =  53.94 ; std =  15.019201043996983\n"
     ]
    }
   ],
   "source": [
    "errors_2hidden = np.array(errors_2hidden) \n",
    "# defining of mean and std\n",
    "mean_2hidden = errors_2hidden.mean()\n",
    "std_2hidden = errors_2hidden.std()\n",
    "\n",
    "print(\"Finale results: mean = \", mean_2hidden, \"; std = \", std_2hidden)"
   ]
  },
  {
   "cell_type": "code",
   "execution_count": null,
   "metadata": {},
   "outputs": [],
   "source": []
  },
  {
   "cell_type": "markdown",
   "metadata": {},
   "source": [
    "## Compare results"
   ]
  },
  {
   "cell_type": "code",
   "execution_count": 78,
   "metadata": {},
   "outputs": [],
   "source": [
    "results_raw = {'Parameter': ['mean', 'std'], 'Simple': [mean, std], 'Normalize': [mean_normalize, std_normalize], '100 epochs': \n",
    "     [mean_epochs100, std_epochs100], '2 hidden layers': [mean_2hidden, std_2hidden]}\n",
    "results = pd.DataFrame(data=results_raw)\n"
   ]
  },
  {
   "cell_type": "code",
   "execution_count": 79,
   "metadata": {},
   "outputs": [
    {
     "data": {
      "text/html": [
       "<div>\n",
       "<style scoped>\n",
       "    .dataframe tbody tr th:only-of-type {\n",
       "        vertical-align: middle;\n",
       "    }\n",
       "\n",
       "    .dataframe tbody tr th {\n",
       "        vertical-align: top;\n",
       "    }\n",
       "\n",
       "    .dataframe thead th {\n",
       "        text-align: right;\n",
       "    }\n",
       "</style>\n",
       "<table border=\"1\" class=\"dataframe\">\n",
       "  <thead>\n",
       "    <tr style=\"text-align: right;\">\n",
       "      <th></th>\n",
       "      <th>Parameter</th>\n",
       "      <th>Simple</th>\n",
       "      <th>Normalize</th>\n",
       "      <th>100 epochs</th>\n",
       "      <th>2 hidden layers</th>\n",
       "    </tr>\n",
       "  </thead>\n",
       "  <tbody>\n",
       "    <tr>\n",
       "      <th>0</th>\n",
       "      <td>mean</td>\n",
       "      <td>88.360000</td>\n",
       "      <td>94.78000</td>\n",
       "      <td>70.540000</td>\n",
       "      <td>53.940000</td>\n",
       "    </tr>\n",
       "    <tr>\n",
       "      <th>1</th>\n",
       "      <td>std</td>\n",
       "      <td>24.762682</td>\n",
       "      <td>24.20024</td>\n",
       "      <td>14.572865</td>\n",
       "      <td>15.019201</td>\n",
       "    </tr>\n",
       "  </tbody>\n",
       "</table>\n",
       "</div>"
      ],
      "text/plain": [
       "  Parameter     Simple  Normalize  100 epochs  2 hidden layers\n",
       "0      mean  88.360000   94.78000   70.540000        53.940000\n",
       "1       std  24.762682   24.20024   14.572865        15.019201"
      ]
     },
     "execution_count": 79,
     "metadata": {},
     "output_type": "execute_result"
    }
   ],
   "source": [
    "results"
   ]
  },
  {
   "cell_type": "markdown",
   "metadata": {},
   "source": [
    "Conclusion. \n",
    "With higher complexity of Neural Network we can achieve higher accuracy."
   ]
  },
  {
   "cell_type": "code",
   "execution_count": null,
   "metadata": {},
   "outputs": [],
   "source": []
  }
 ],
 "metadata": {
  "kernelspec": {
   "display_name": "Python 3",
   "language": "python",
   "name": "python3"
  },
  "language_info": {
   "codemirror_mode": {
    "name": "ipython",
    "version": 3
   },
   "file_extension": ".py",
   "mimetype": "text/x-python",
   "name": "python",
   "nbconvert_exporter": "python",
   "pygments_lexer": "ipython3",
   "version": "3.6.5"
  }
 },
 "nbformat": 4,
 "nbformat_minor": 4
}
